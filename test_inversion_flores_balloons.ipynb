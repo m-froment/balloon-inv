{
 "cells": [
  {
   "cell_type": "markdown",
   "id": "extended-server",
   "metadata": {},
   "source": [
    "# Joint inversion of source location and subsurface structure from body waves (P,S) and Rayleigh Waves (LR) arrival times\n",
    "Froment, M., Brissaud, Q., Näsholm, S. P. and Schweitzer, J. (2025) _Balloon seismology enables subsurface inversion without ground stations_\n",
    "\n",
    "This notebook presents the different steps necessary to run the inversion of source and subsurface for the December 14, 2021 $M_w$ 7.3 earthquake in the Flores Sea. The example inversion uses pressure waveforms recorded by four balloons of the Strateole2 campaign flying over Oceania during the event. First, the balloon data is processed to reduced the influence of low-frequency buoyancy oscillations. Then, P, S and LR phases arrival times are extracted manually from the processed pressure waveforms and formatted for the inversion. A short test inversion ($10^3$ steps) is run. The Monte Carlo inversion results are then further processed and relevant figures shown in the article are produced.     "
   ]
  },
  {
   "cell_type": "code",
   "execution_count": 19,
   "id": "loved-radical",
   "metadata": {},
   "outputs": [],
   "source": [
    "import MCMC_modules as mc\n",
    "import numpy as np\n",
    "import sys\n",
    "import importlib \n",
    "# %matplotlib widget\n",
    "### Necessary to use interactive picking figures \n",
    "%matplotlib qt "
   ]
  },
  {
   "cell_type": "markdown",
   "id": "bdda59a9-5f28-4c06-9321-37fda7f693de",
   "metadata": {},
   "source": [
    "# Balloon Data processing\n",
    "Processing is done through the `prepare_data_flores_Strateole.py` code. The raw balloon data and the processed outputs are saved in `.mseed` format is in the `./Flores_data/` directory."
   ]
  },
  {
   "cell_type": "code",
   "execution_count": 20,
   "id": "bb21e587-1a17-4951-9504-671194d65c16",
   "metadata": {},
   "outputs": [],
   "source": [
    "import prepare_data_flores_Strateole as bpr\n",
    "importlib.reload(bpr)\n",
    "data_source = \"./Flores_data/\"\n",
    "\n",
    "### The processed miniseed files have already been calculated. \n",
    "### Change to False to redo the processing\n",
    "skip =True\n",
    "if not skip:\n",
    "    ### STEP 1: INITIALIZE STREAMS \n",
    "    bdata = bpr.BALLOON_DATA()\n",
    "    \n",
    "    ### STEP 2: CORRECT GAPS \n",
    "    list_streams = bpr.correct_gaps(bdata)\n",
    "    \n",
    "    ### STEP 3: UPSAMPLE Z \n",
    "    list_streams_aligned = bpr.Z_upsample_align(list_streams, do_plot=False)\n",
    "    \n",
    "    ### STEP 4: Determine relation between P and Z \n",
    "    list_streams_opt = bpr.P_Z_relation(list_streams_aligned, do_plot=False)\n",
    "    \n",
    "    ### STEP 5: Obtained corrected pressure, plot, save \n",
    "    list_streams_corr = bpr.P_corrected(list_streams_opt, do_plot=False)\n",
    "    \n",
    "    ### STEP 6: Save raw and corrected seeds for inversion \n",
    "    bpr.save_streams_inversion(data_source, list_streams_corr)"
   ]
  },
  {
   "cell_type": "markdown",
   "id": "a13cfe5a-5786-4a11-846c-fb2262cc74f2",
   "metadata": {},
   "source": [
    "# Phase picking and formatting\n",
    "In the following step, we will prepare the inversion setup and proceed to pick the arrivals. This step is very important, as it will define the name of our run and where the inputs and outputs of the run will be stored. This step generate a class `DATA`containing the necessary arrays. "
   ]
  },
  {
   "cell_type": "code",
   "execution_count": 21,
   "id": "24b9b5ba-2122-47a3-9781-77bd33283710",
   "metadata": {},
   "outputs": [
    {
     "name": "stdout",
     "output_type": "stream",
     "text": [
      "Building data to invert\n",
      "Loading recorded data.\n",
      "Computing FTAN.\n",
      "Start phase picker... \n",
      "Loading recorded data.\n",
      "Computing FTAN.\n",
      "Start phase picker... \n",
      "Loading recorded data.\n",
      "Computing FTAN.\n",
      "Start phase picker... \n",
      "Loading recorded data.\n",
      "Computing FTAN.\n",
      "Start phase picker... \n",
      "Saving MCMC Files\n"
     ]
    }
   ],
   "source": [
    "import initialise_inversion_flores_Strateole as data_init\n",
    "importlib.reload(data_init)\n",
    "importlib.reload(mc)\n",
    "\n",
    "data_dir = \"./chains_emcee_flores_Strateole/DATA/\"\n",
    "### The picks have already been calculated\n",
    "### Set do_plot_ftan to True to plot all the FTAN analysis or redo it\n",
    "DATA = data_init.generate_data(data_dir, initialize=True, do_plot_ftan=False)"
   ]
  },
  {
   "cell_type": "markdown",
   "id": "35651176-4483-4c1d-b068-3e5c45f7d82c",
   "metadata": {},
   "source": [
    "# Preparing the inversion\n",
    "Now that `DATA` is prepared, we can set up the inversion. This step generate a class `MCMC` that contains functions to initialise, load and run the McMC samplers, and also contains the results and basic functions to post-process them.\n",
    "\n",
    "### Step 1: Defined the prior\n",
    "Prior bounds are defined in a separate text file, here named `prior_flores.txt`. Some precautions: \n",
    "- The variable names in the first column should not be changed: the first four variables are relative to the source, then the subsurface velocity parameters follow.\n",
    "- This files defines the number of layers that will be inverted. There should always be one more line for `vs` and `poisson` than for `h_layer`. If there are 6 lines for `h_layer`, then it means a model with 6 layers and 1 halfspace will be inverted.\n",
    "- The two columns `prior_min` and `prior_max` define uniform prior bounds for each variable. The two columns `start_min` and `start_max` define restricted bounds, which help initialise the Monte Carlo inversion in a parameter region that is not too pathological. The starting bounds must always be comprised withing the prior bounds, or an error will be raised.\n",
    "\n",
    "### Step 2: Define variables for inversion"
   ]
  },
  {
   "cell_type": "code",
   "execution_count": 22,
   "id": "67b04972-da35-49fe-bb08-3fba9b3eeeb9",
   "metadata": {},
   "outputs": [
    {
     "name": "stdout",
     "output_type": "stream",
     "text": [
      "20 CPUs available\n",
      "4 CPUs running\n",
      "doing emcee...\n",
      "Deleting previous backend...\n"
     ]
    }
   ],
   "source": [
    "### Name of the run: must be the same as in \"data_dir\"\n",
    "name_run      = \"flores_Strateole\"\n",
    "\n",
    "### Directory to save results. Must be the same as in \"data_dir\"\n",
    "save_dir      = data_dir.split(\"DATA/\")[0]\n",
    "data_dir      = data_dir\n",
    "\n",
    "### File containing the priors\n",
    "param_file    = \"prior_flores.txt\"\n",
    "\n",
    "### McMC sampler. emcee is the most optimized option here.\n",
    "method        = \"emcee\"\n",
    "\n",
    "### Number of desired iterations\n",
    "n_iter        = int(1e2)\n",
    "### Long, converged inversion (takes a day)\n",
    "#n_iter        = int(1e6)\n",
    "\n",
    "### Number of CPUs used. n_cpus=1 preferred for debugging. \n",
    "n_cpus        = int(4)   ### home computer\n",
    "# n_cpus        = int(20)   ### cluster\n",
    "\n",
    "### To display progress bar (must be set to false if running through a cluster) \n",
    "progress      = True\n",
    "\n",
    "### If set to True, generate a brand new inversion. \n",
    "### If set to False, restarts an inversion from the last steps stored in \"save_dir\"\n",
    "reset_backend = True\n",
    "\n",
    "importlib.reload(mc)\n",
    "MCMC = mc.MCMC_Model(DATA, name_run, save_dir, data_dir, param_file, \n",
    "                    method=method, n_iter=n_iter, n_cpus=n_cpus, \n",
    "                    progress=progress, reset_backend=reset_backend)"
   ]
  },
  {
   "cell_type": "markdown",
   "id": "split-river",
   "metadata": {},
   "source": [
    "# Run the McMC sampler\n",
    "\n",
    "Diagnostic information about run (timing, CPUs, crash, reason for crash) are stored in the file `timing_[method].txt`. "
   ]
  },
  {
   "cell_type": "code",
   "execution_count": 23,
   "id": "emotional-singles",
   "metadata": {
    "scrolled": true
   },
   "outputs": [
    {
     "name": "stdout",
     "output_type": "stream",
     "text": [
      "Reset start\n",
      "  2%|▊                                          | 2/100 [00:00<00:06, 15.33it/s]"
     ]
    },
    {
     "name": "stderr",
     "output_type": "stream",
     "text": [
      "/nobackup/marouchka/miniconda/envs/env_mcmc/lib/python3.13/site-packages/emcee/moves/red_blue.py:99: RuntimeWarning: invalid value encountered in scalar subtract\n",
      "  lnpdiff = f + nlp - state.log_prob[j]\n"
     ]
    },
    {
     "name": "stdout",
     "output_type": "stream",
     "text": [
      "100%|█████████████████████████████████████████| 100/100 [00:10<00:00,  9.51it/s]\n",
      "- SUCCESS -\n"
     ]
    }
   ],
   "source": [
    "### Will do a warm start if reset_backend=False = continue from the end of the last run. \n",
    "### Else it erases everything ans starts over. \n",
    "MCMC.run()"
   ]
  },
  {
   "cell_type": "markdown",
   "id": "58e73536",
   "metadata": {},
   "source": [
    "# Visualize results\n",
    "\n",
    "The `MCMC` class possesses simple plotting functions to analyse inversion results. \n",
    "### General inspection\n",
    "The first function is called `inspect_chain()` and allows to inspect the behavior of the chain during the inversion. It will display: \n",
    "- The evolution of the log_likelihood during the inversion. This plot can be used to identify \"stuck\" chains and the `crit` parameter (see below)\n",
    "- The evolution of the acceptance rate\n",
    "- The evolution of each inverted parameter (if using `emcee`, there are multiple curves for each walker and the least-misfit walker is plotted in red), the histogram of the first parameter and an estimate of the autocorrelation time of the chain for this parameter.\n",
    "\n",
    "The `thin` parameter controls the amount of chain points that should be discarded. It is here set to display only 1000 chain iterations."
   ]
  },
  {
   "cell_type": "code",
   "execution_count": 24,
   "id": "1b5711fb",
   "metadata": {},
   "outputs": [
    {
     "name": "stdout",
     "output_type": "stream",
     "text": [
      "Loading data...\n",
      "Calculating autocorrelation time...\n",
      "100%|█████████████████████████████████████████| 49/49 [00:00<00:00, 1613.28it/s]\n",
      "Displaying misfit...\n",
      "100%|█████████████████████████████████████████| 49/49 [00:00<00:00, 5356.57it/s]\n",
      "Displaying acceptance rate...\n",
      "100%|█████████████████████████████████████████| 49/49 [00:00<00:00, 6759.67it/s]\n",
      "Displaying chains...\n",
      "100%|███████████████████████████████████████████| 49/49 [00:02<00:00, 18.19it/s]\n"
     ]
    }
   ],
   "source": [
    "importlib.reload(mc)\n",
    "MCMC._load_results()\n",
    "\n",
    "### Comment to ignore\n",
    "MCMC.inspect_chain(param = 0, direction = \"horizontal\", thin=max(1,int(n_iter//1000)), do_save=False)"
   ]
  },
  {
   "cell_type": "markdown",
   "id": "78b827c0",
   "metadata": {},
   "source": [
    "### Autocorrelation and convergence\n",
    "\n",
    "This function calculates the autocorrelation time $\\tau$ of chains to evaluate their convergence, following https://emcee.readthedocs.io/en/stable/tutorials/autocorr/. A chain is considered converged when its autocorrelation time becomes stable. `param` is the parameter index from whose chain the autocorrelation will be estimated. `discard` allows to throw away the burn-in iterations before calculating the autocorrelation time."
   ]
  },
  {
   "cell_type": "code",
   "execution_count": 15,
   "id": "listed-preserve",
   "metadata": {},
   "outputs": [
    {
     "name": "stdout",
     "output_type": "stream",
     "text": [
      "Loading data...\n",
      "Calculating autocorrelation times...\n",
      "100%|██████████████████████████████████████████| 49/49 [00:00<00:00, 985.03it/s]\n"
     ]
    }
   ],
   "source": [
    "MCMC.visualize_convergence(discard=1, N_point_autocorr = 50, param = 0, do_save=True)"
   ]
  },
  {
   "cell_type": "markdown",
   "id": "3091ac38-c392-4f52-864b-c704a9250b7d",
   "metadata": {},
   "source": [
    "### Source and subsurface solutions \n",
    "\n",
    "The following function plot some diagnostic information on the inverted source location and time, and the posterior subsurface models. Before being run, they require the solutions to be processed: some _burn-in_ iterations will be discarded (option `discard`) and only a selection of iterations will be plotted (option `thin`).\n",
    "\n",
    "Chains that could be \"stuck\" in a region of very low likelihood can be discarded as well using a threshold on the log-likelihood with the option `crit`. or the balloon inversion, after a well converged inversions, it should be `crit=-135`.\n",
    "\n",
    "A estimate of the Maximum A Posteriori (MAP) values for the model will be estimated. Note that it requires a large number of iterations to be trustable. "
   ]
  },
  {
   "cell_type": "code",
   "execution_count": 25,
   "id": "b2428f31-6a37-4a80-958e-41e0b8848e8a",
   "metadata": {},
   "outputs": [
    {
     "name": "stdout",
     "output_type": "stream",
     "text": [
      "Loading samples...\n",
      "Extracted 4508 subsurface models\n",
      "Interpolating models...\n"
     ]
    },
    {
     "name": "stderr",
     "output_type": "stream",
     "text": [
      "100%|██████████████████████████████████| 4508/4508 [00:00<00:00, 5382272.26it/s]\n"
     ]
    },
    {
     "name": "stdout",
     "output_type": "stream",
     "text": [
      "Finding MAP using 4508 iterations\n",
      "estimated bandwidth:  0.779312977649295\n",
      "fit meanshift\n",
      "Mean Shift Estimated Mode: [-7.77446832e+00 -8.06624901e+00  1.22744864e+02  1.05932821e+02\n",
      "  2.67728471e+00  3.81981828e+00  4.22618424e+00  4.56276924e+00\n",
      "  4.80981626e+00  5.46862385e+00  5.70464283e+00  2.03233125e-01\n",
      "  2.25383515e-01  2.69484789e-01  2.69402604e-01  2.61045450e-01\n",
      "  2.30942270e-01  2.40115563e-01  2.81992481e+00  1.55581933e+01\n",
      "  1.33216979e+01  1.74809297e+01  2.08017565e+02  2.21014038e+02]\n",
      "MAP model: [-7.774, -8.066, 122.7, 105.9, 2.677, 3.82, 4.226, 4.563, 4.81, 5.469, 5.705, 0.2032, 0.2254, 0.2695, 0.2694, 0.261, 0.2309, 0.2401, 2.82, 15.56, 13.32, 17.48, 208, 221]\n",
      "Likelihood of best:  -128.0895164162786\n",
      "Calculating group velocity and arrival times...\n",
      "100%|████████████████████████████████████████| 201/201 [00:01<00:00, 161.24it/s]\n",
      "Interpolating models...\n"
     ]
    },
    {
     "name": "stderr",
     "output_type": "stream",
     "text": [
      "100%|██████████████████████████████████| 4508/4508 [00:00<00:00, 5736626.95it/s]\n"
     ]
    },
    {
     "name": "stdout",
     "output_type": "stream",
     "text": [
      "Likelihood of best:  -128.0895164162786\n",
      "Calculating group velocity and arrival times...\n",
      "100%|████████████████████████████████████████| 201/201 [00:01<00:00, 161.62it/s]\n"
     ]
    }
   ],
   "source": [
    "importlib.reload(mc)\n",
    "\n",
    "### Set the minimum log-likelihood to acount for in plots, values with higher misfit (lower log-likelihood) will be discarded. \n",
    "crit = -9999\n",
    "#crit = -135\n",
    "\n",
    "MCMC.process_solutions(discard=0, thin=1, crit=crit)\n",
    "### Uncomment for inversions with a very large number of iterations:\n",
    "#MCMC.process_solutions(discard=1000, thin=2000, crit=crit)\n",
    "\n",
    "### SHALLOW Subsurface\n",
    "dep_shallow = np.linspace(0., 100., 201)\n",
    "MCMC.visualize_solution(figsize=(10,5), Nmod=200, bins_hist=20, bins_wave=50, hspace=0.1, wspace=0.15,  \n",
    "                            depth_interpolation=dep_shallow, preserve_aspect=True, do_save=True, do_truth=True)\n",
    "### DEEPER subsurface\n",
    "dep_deep = np.linspace(0., 1000., 201)\n",
    "MCMC.visualize_solution(figsize=(10,5), Nmod=200, bins_hist=20, bins_wave=50, hspace=0.1, wspace=0.15,  \n",
    "                            depth_interpolation=dep_deep, preserve_aspect=True, do_save=True, do_truth=True)\n",
    "\n",
    "### Source location \n",
    "MCMC.source_location(figsize=(4,4), do_save=True, geography = True, zoom=True)"
   ]
  },
  {
   "cell_type": "markdown",
   "id": "aca189b8-1e89-4f80-ba24-98669ad775de",
   "metadata": {},
   "source": [
    "### Marginal distributions of parameters\n",
    "The following two function make corner plots of all or a selection of couples of parameters. This allows to visualise trade-off between two dimensions. "
   ]
  },
  {
   "cell_type": "code",
   "execution_count": 17,
   "id": "f1b39a42-be95-42c4-be94-a44a69a3677f",
   "metadata": {},
   "outputs": [
    {
     "name": "stdout",
     "output_type": "stream",
     "text": [
      "100%|███████████████████████████████████████████| 24/24 [00:01<00:00, 20.11it/s]\n",
      "Limits = [[-25.9, 24.3], [-13.1, 5.6], [103.1, 130.4], [1.0, 200.0], [0.5, 4.0], [2.7, 5.6], [3.2, 5.7], [2.0, 6.0], [4.2, 6.0], [4.0, 7.0], [5.4, 6.9], [0.1, 0.4], [0.1, 0.4], [0.1, 0.4], [0.1, 0.4], [0.1, 0.4], [0.1, 0.4], [0.2, 0.3], [0.2, 5.0], [1.0, 30.0], [0.9, 26.9], [-0.8, 32.8], [100.0, 400.0], [100.0, 400.0]]\n",
      "Limits = [[-25.9, 24.3], [-13.1, 5.6]]\n",
      "Limits = [[-25.9, 24.3], [103.1, 130.4]]\n",
      "Limits = [[-13.1, 5.6], [4.2, 6.0]]\n",
      "Limits = [[103.1, 130.4], [4.2, 6.0]]\n",
      "Limits = [[2.7, 5.6], [4.2, 6.0]]\n",
      "Limits = [[0.5, 4.0], [0.1, 0.4]]\n",
      "Limits = [[-25.9, 24.3], [4.2, 6.0]]\n"
     ]
    },
    {
     "data": {
      "text/plain": [
       "()"
      ]
     },
     "execution_count": 17,
     "metadata": {},
     "output_type": "execute_result"
    }
   ],
   "source": [
    "importlib.reload(mc)\n",
    "\n",
    "### VERY BIG CORNER PLOT \n",
    "### Comment to ignore \n",
    "MCMC.corner_plot(do_save=True, do_MAP = True)\n",
    "\n",
    "### Marginals for a selection of parameters \n",
    "### Comment to ignore \n",
    "MCMC.parameter_marginals(pars=[[0,1],[0,2],[1,8],[2,8],[5,8],[4,14],[0,8]], find_limits=True, \n",
    "                        do_save=True, do_MAP=True)"
   ]
  },
  {
   "cell_type": "markdown",
   "id": "f2ec6efd-5513-4b92-b8db-fe99fbc0f09b",
   "metadata": {},
   "source": [
    "### Additional information: the Priors\n",
    "The prior distribution of subsurface and source parameters can be plotted with the following function."
   ]
  },
  {
   "cell_type": "code",
   "execution_count": 18,
   "id": "9a5669b4-39ee-4902-b9af-17b54cd8c283",
   "metadata": {},
   "outputs": [
    {
     "name": "stdout",
     "output_type": "stream",
     "text": [
      "Interpolating prior models...\n",
      "100%|████████████████████████████████████████| 83/83 [00:00<00:00, 21531.87it/s]\n"
     ]
    },
    {
     "ename": "ValueError",
     "evalue": "Cannot take a larger sample than population when 'replace=False'",
     "output_type": "error",
     "traceback": [
      "\u001b[31m---------------------------------------------------------------------------\u001b[39m",
      "\u001b[31mValueError\u001b[39m                                Traceback (most recent call last)",
      "\u001b[36mCell\u001b[39m\u001b[36m \u001b[39m\u001b[32mIn[18]\u001b[39m\u001b[32m, line 4\u001b[39m\n\u001b[32m      1\u001b[39m importlib.reload(mc)\n\u001b[32m      3\u001b[39m \u001b[38;5;66;03m### Comment to ignore \u001b[39;00m\n\u001b[32m----> \u001b[39m\u001b[32m4\u001b[39m MCMC.visualize_priors(figsize=(\u001b[32m10\u001b[39m,\u001b[32m5\u001b[39m), Nmod=\u001b[32m2000\u001b[39m, bins_hist=\u001b[32m20\u001b[39m, bins_wave=\u001b[32m50\u001b[39m, hspace=\u001b[32m0.1\u001b[39m, wspace=\u001b[32m0.15\u001b[39m, \n\u001b[32m      5\u001b[39m                            depth_interpolation=dep_shallow, do_save=\u001b[38;5;28;01mFalse\u001b[39;00m, preserve_aspect=\u001b[38;5;28;01mTrue\u001b[39;00m)\n",
      "\u001b[36mFile \u001b[39m\u001b[32m~/Documents/SOFTWARE/McMC/QB/public_inversion/MCMC_modules.py:4467\u001b[39m, in \u001b[36mMCMC_Model.visualize_priors\u001b[39m\u001b[34m(self, figsize, Nmod, Nvg, bins_hist, bins_wave, hspace, wspace, depth_interpolation, do_save, preserve_aspect, color_code)\u001b[39m\n\u001b[32m   4461\u001b[39m source_depths = true_prior_models[:,wr_hs]\n\u001b[32m   4464\u001b[39m \u001b[38;5;66;03m####################################################################################################\u001b[39;00m\n\u001b[32m   4465\u001b[39m \u001b[38;5;66;03m### CALCULATE WAVE PARAMETERS FROM PRIORS \u001b[39;00m\n\u001b[32m   4466\u001b[39m \u001b[38;5;66;03m### Pick Nmod random models to display group velocity curves.\u001b[39;00m\n\u001b[32m-> \u001b[39m\u001b[32m4467\u001b[39m chosen_id = np.random.choice(Nmod, size=Nvg, replace=\u001b[38;5;28;01mFalse\u001b[39;00m)\n\u001b[32m   4468\u001b[39m chosen_vgs = np.zeros((Nvg, periods.size))\n\u001b[32m   4469\u001b[39m \u001b[38;5;28;01mif\u001b[39;00m np.any( [\u001b[38;5;28mself\u001b[39m.DATA.data_vector[i][\u001b[33m\"\u001b[39m\u001b[33mS_arrival\u001b[39m\u001b[33m\"\u001b[39m] \u001b[38;5;28;01mfor\u001b[39;00m i \u001b[38;5;129;01min\u001b[39;00m \u001b[38;5;28mrange\u001b[39m(Nwaves)] \u001b[38;5;129;01mis\u001b[39;00m \u001b[38;5;129;01mnot\u001b[39;00m \u001b[38;5;28;01mNone\u001b[39;00m):\n",
      "\u001b[36mFile \u001b[39m\u001b[32mnumpy/random/mtrand.pyx:1020\u001b[39m, in \u001b[36mnumpy.random.mtrand.RandomState.choice\u001b[39m\u001b[34m()\u001b[39m\n",
      "\u001b[31mValueError\u001b[39m: Cannot take a larger sample than population when 'replace=False'"
     ]
    }
   ],
   "source": [
    "importlib.reload(mc)\n",
    "\n",
    "### Comment to ignore \n",
    "MCMC.visualize_priors(figsize=(10,5), Nmod=2000, bins_hist=20, bins_wave=50, hspace=0.1, wspace=0.15, \n",
    "                           depth_interpolation=dep_shallow, do_save=False, preserve_aspect=True)"
   ]
  },
  {
   "cell_type": "code",
   "execution_count": null,
   "id": "6417f448-d080-4cb7-8395-02f06451aaf0",
   "metadata": {},
   "outputs": [],
   "source": []
  }
 ],
 "metadata": {
  "kernelspec": {
   "display_name": "Python [conda env:env_mcmc]",
   "language": "python",
   "name": "conda-env-env_mcmc-py"
  },
  "language_info": {
   "codemirror_mode": {
    "name": "ipython",
    "version": 3
   },
   "file_extension": ".py",
   "mimetype": "text/x-python",
   "name": "python",
   "nbconvert_exporter": "python",
   "pygments_lexer": "ipython3",
   "version": "3.13.2"
  }
 },
 "nbformat": 4,
 "nbformat_minor": 5
}
