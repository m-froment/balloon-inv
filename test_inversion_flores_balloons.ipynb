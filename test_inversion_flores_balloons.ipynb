{
 "cells": [
  {
   "cell_type": "markdown",
   "id": "extended-server",
   "metadata": {},
   "source": [
    "# Joint inversion of source location and subsurface structure from body waves (P,S) and Rayleigh Waves (LR) arrival times\n",
    "Froment, M., Brissaud, Q., Näsholm, S. P. and Schweitzer, J. (2025) _Joint source and subsurface inversion using earthquake-generated infrasound recorded by balloons_\n",
    "\n",
    "This notebook presents the different steps necessary to run the inversion of source and subsurface for the December 14, 2021 $M_w$ 7.3 earthquake in the Flores Sea. The example inversion uses pressure waveforms recorded by four balloons of the Strateole2 campaign flying over Oceania during the event. First, the balloon data is processed to reduced the influence of low-frequency buoyancy oscillations. Then, P, S and LR phases arrival times are extracted manually from the processed pressure waveforms and formatted for the inversion. A short test inversion ($10^3$ steps) is run. The Monte Carlo inversion results are then further processed and relevant figures shown in the article are produced.     "
   ]
  },
  {
   "cell_type": "code",
   "execution_count": 46,
   "id": "loved-radical",
   "metadata": {},
   "outputs": [],
   "source": [
    "import MCMC_modules as mc\n",
    "import numpy as np\n",
    "import sys\n",
    "import importlib \n",
    "# %matplotlib widget\n",
    "### Necessary to use interactive picking figures \n",
    "%matplotlib qt "
   ]
  },
  {
   "cell_type": "markdown",
   "id": "bdda59a9-5f28-4c06-9321-37fda7f693de",
   "metadata": {},
   "source": [
    "# Balloon Data processing\n",
    "Processing is done through the `prepare_data_flores_Strateole.py` code. The raw balloon data and the processed outputs are saved in `.mseed` format is in the `./Flores_data/` directory."
   ]
  },
  {
   "cell_type": "code",
   "execution_count": 47,
   "id": "bb21e587-1a17-4951-9504-671194d65c16",
   "metadata": {},
   "outputs": [],
   "source": [
    "import prepare_data_flores_Strateole as bpr\n",
    "importlib.reload(bpr)\n",
    "data_source = \"./Flores_data/\"\n",
    "\n",
    "### The processed miniseed files have already been calculated. \n",
    "### Change to False to redo the processing\n",
    "skip =True\n",
    "if not skip:\n",
    "    ### STEP 1: INITIALIZE STREAMS \n",
    "    bdata = bpr.BALLOON_DATA()\n",
    "    \n",
    "    ### STEP 2: CORRECT GAPS \n",
    "    list_streams = bpr.correct_gaps(bdata)\n",
    "    \n",
    "    ### STEP 3: UPSAMPLE Z \n",
    "    list_streams_aligned = bpr.Z_upsample_align(list_streams, do_plot=False)\n",
    "    \n",
    "    ### STEP 4: Determine relation between P and Z \n",
    "    list_streams_opt = bpr.P_Z_relation(list_streams_aligned, do_plot=False)\n",
    "    \n",
    "    ### STEP 5: Obtained corrected pressure, plot, save \n",
    "    list_streams_corr = bpr.P_corrected(list_streams_opt, do_plot=False)\n",
    "    \n",
    "    ### STEP 6: Save raw and corrected seeds for inversion \n",
    "    bpr.save_streams_inversion(data_source, list_streams_corr)"
   ]
  },
  {
   "cell_type": "markdown",
   "id": "a13cfe5a-5786-4a11-846c-fb2262cc74f2",
   "metadata": {},
   "source": [
    "# Phase picking and formatting\n",
    "In the following step, we will prepare the inversion setup and proceed to pick the arrivals. This step is very important, as it will define the name of our run and where the inputs and outputs of the run will be stored. This step generate a class `DATA`containing the necessary arrays. "
   ]
  },
  {
   "cell_type": "code",
   "execution_count": 48,
   "id": "24b9b5ba-2122-47a3-9781-77bd33283710",
   "metadata": {},
   "outputs": [
    {
     "name": "stdout",
     "output_type": "stream",
     "text": [
      "Building data to invert\n",
      "Loading recorded data.\n",
      "Computing FTAN.\n",
      "Start phase picker... \n",
      "Loading recorded data.\n",
      "Computing FTAN.\n",
      "Start phase picker... \n",
      "Loading recorded data.\n",
      "Computing FTAN.\n",
      "Start phase picker... \n",
      "Loading recorded data.\n",
      "Computing FTAN.\n",
      "Start phase picker... \n",
      "Saving MCMC Files\n"
     ]
    }
   ],
   "source": [
    "import initialise_inversion_flores_Strateole as data_init\n",
    "importlib.reload(data_init)\n",
    "importlib.reload(mc)\n",
    "\n",
    "data_dir = \"./chains_emcee_flores_Strateole/DATA/\"\n",
    "### The picks have already been calculated\n",
    "### Set do_plot_ftan to True to plot all the FTAN analysis or redo it\n",
    "DATA = data_init.generate_data(data_dir, initialize=True, do_plot_ftan=False)"
   ]
  },
  {
   "cell_type": "markdown",
   "id": "35651176-4483-4c1d-b068-3e5c45f7d82c",
   "metadata": {},
   "source": [
    "# Preparing the inversion\n",
    "Now that `DATA` is prepared, we can set up the inversion. This step generate a class `MCMC` that contains functions to initialise, load and run the McMC samplers, and also contains the results and basic functions to post-process them.\n",
    "\n",
    "### Step 1: Defined the prior\n",
    "Prior bounds are defined in a separate text file, here named `prior_flores.txt`. Some precautions: \n",
    "- The variable names in the first column should not be changed: the first four variables are relative to the source, then the subsurface velocity parameters follow.\n",
    "- This files defines the number of layers that will be inverted. There should always be one more line for `vs` and `poisson` than for `h_layer`. If there are 6 lines for `h_layer`, then it means a model with 6 layers and 1 halfspace will be inverted.\n",
    "- The two columns `prior_min` and `prior_max` define uniform prior bounds for each variable. The two columns `start_min` and `start_max` define restricted bounds, which help initialise the Monte Carlo inversion in a parameter region that is not too pathological. The starting bounds must always be comprised withing the prior bounds, or an error will be raised.\n",
    "\n",
    "### Step 2: Define variables for inversion"
   ]
  },
  {
   "cell_type": "code",
   "execution_count": 49,
   "id": "67b04972-da35-49fe-bb08-3fba9b3eeeb9",
   "metadata": {},
   "outputs": [
    {
     "name": "stdout",
     "output_type": "stream",
     "text": [
      "24 CPUs available\n",
      "4 CPUs running\n",
      "doing emcee...\n",
      "Deleting previous backend...\n"
     ]
    }
   ],
   "source": [
    "### Name of the run: must be the same as in \"data_dir\"\n",
    "name_run      = \"flores_Strateole\"\n",
    "\n",
    "### Directory to save results. Must be the same as in \"data_dir\"\n",
    "save_dir      = data_dir.split(\"DATA/\")[0]\n",
    "data_dir      = data_dir\n",
    "\n",
    "### File containing the priors\n",
    "param_file    = \"prior_flores.txt\"\n",
    "\n",
    "### McMC sampler. emcee is the most optimized option here.\n",
    "method        = \"emcee\"\n",
    "\n",
    "### Number of desired iterations\n",
    "n_iter        = int(1e2)\n",
    "### Long, converged inversion (takes a day)\n",
    "#n_iter        = int(1e6)\n",
    "\n",
    "### Number of CPUs used. n_cpus=1 preferred for debugging. \n",
    "n_cpus        = int(4)   ### home computer\n",
    "# n_cpus        = int(20)   ### cluster\n",
    "\n",
    "### To display progress bar (must be set to false if running through a cluster) \n",
    "progress      = True\n",
    "\n",
    "### If set to True, generate a brand new inversion. \n",
    "### If set to False, restarts an inversion from the last steps stored in \"save_dir\"\n",
    "reset_backend = True\n",
    "\n",
    "importlib.reload(mc)\n",
    "MCMC = mc.MCMC_Model(DATA, name_run, save_dir, data_dir, param_file, \n",
    "                    method=method, n_iter=n_iter, n_cpus=n_cpus, \n",
    "                    progress=progress, reset_backend=reset_backend)"
   ]
  },
  {
   "cell_type": "markdown",
   "id": "split-river",
   "metadata": {},
   "source": [
    "# Run the McMC sampler\n",
    "\n",
    "Diagnostic information about run (timing, CPUs, crash, reason for crash) are stored in the file `timing_[method].txt`. "
   ]
  },
  {
   "cell_type": "code",
   "execution_count": 50,
   "id": "emotional-singles",
   "metadata": {
    "scrolled": true
   },
   "outputs": [
    {
     "name": "stdout",
     "output_type": "stream",
     "text": [
      "Reset start\n",
      "  0%|                                                   | 0/100 [00:00<?, ?it/s]"
     ]
    },
    {
     "name": "stderr",
     "output_type": "stream",
     "text": [
      "/nobackup/marouchka/miniconda/envs/env_mcmc/lib/python3.13/site-packages/emcee/moves/red_blue.py:99: RuntimeWarning: invalid value encountered in scalar subtract\n",
      "  lnpdiff = f + nlp - state.log_prob[j]\n"
     ]
    },
    {
     "name": "stdout",
     "output_type": "stream",
     "text": [
      "100%|█████████████████████████████████████████| 100/100 [00:40<00:00,  2.47it/s]\n",
      "- SUCCESS -\n"
     ]
    }
   ],
   "source": [
    "### Will do a warm start if reset_backend=False = continue from the end of the last run. \n",
    "### Else it erases everything ans starts over. \n",
    "MCMC.run()"
   ]
  },
  {
   "cell_type": "markdown",
   "id": "58e73536",
   "metadata": {},
   "source": [
    "# Visualize results\n",
    "\n",
    "The `MCMC` class possesses simple plotting functions to analyse inversion results. \n",
    "### General inspection\n",
    "The first function is called `inspect_chain()` and allows to inspect the behavior of the chain during the inversion. It will display: \n",
    "- The evolution of the log_likelihood during the inversion. This plot can be used to identify \"stuck\" chains and the `crit` parameter (see below)\n",
    "- The evolution of the acceptance rate\n",
    "- The evolution of each inverted parameter (if using `emcee`, there are multiple curves for each walker and the least-misfit walker is plotted in red), the histogram of the first parameter and an estimate of the autocorrelation time of the chain for this parameter.\n",
    "\n",
    "The `thin` parameter controls the amount of chain points that should be discarded. It is here set to display only 1000 chain iterations."
   ]
  },
  {
   "cell_type": "code",
   "execution_count": 51,
   "id": "1b5711fb",
   "metadata": {},
   "outputs": [],
   "source": [
    "importlib.reload(mc)\n",
    "MCMC._load_results()\n",
    "\n",
    "### Comment to ignore\n",
    "MCMC.inspect_chain(param = 0, direction = \"horizontal\", thin=max(1,int(n_iter//1000)), do_save=False)"
   ]
  },
  {
   "cell_type": "markdown",
   "id": "78b827c0",
   "metadata": {},
   "source": [
    "### Autocorrelation and convergence\n",
    "\n",
    "This function calculates the autocorrelation time $\\tau$ of chains to evaluate their convergence, following https://emcee.readthedocs.io/en/stable/tutorials/autocorr/. A chain is considered converged when its autocorrelation time becomes stable. `param` is the parameter index from whose chain the autocorrelation will be estimated. `discard` allows to throw away the burn-in iterations before calculating the autocorrelation time."
   ]
  },
  {
   "cell_type": "code",
   "execution_count": 52,
   "id": "listed-preserve",
   "metadata": {},
   "outputs": [
    {
     "name": "stdout",
     "output_type": "stream",
     "text": [
      "Loading data...\n",
      "Calculating autocorrelation times...\n",
      "100%|██████████████████████████████████████████| 49/49 [00:00<00:00, 147.07it/s]\n"
     ]
    }
   ],
   "source": [
    "MCMC.visualize_convergence(discard=1, N_point_autocorr = 50, param = 0, do_save=True)"
   ]
  },
  {
   "cell_type": "markdown",
   "id": "3091ac38-c392-4f52-864b-c704a9250b7d",
   "metadata": {},
   "source": [
    "### Source and subsurface solutions \n",
    "\n",
    "The following function plot some diagnostic information on the inverted source location and time, and the posterior subsurface models. Before being run, they require the solutions to be processed: some _burn-in_ iterations will be discarded (option `discard`) and only a selection of iterations will be plotted (option `thin`).\n",
    "\n",
    "Chains that could be \"stuck\" in a region of very low likelihood can be discarded as well using a threshold on the log-likelihood with the option `crit`. or the balloon inversion, after a well converged inversions, it should be `crit=-135`.\n",
    "\n",
    "A estimate of the Maximum A Posteriori (MAP) values for the model will be estimated. Note that it requires a large number of iterations to be trustable. "
   ]
  },
  {
   "cell_type": "code",
   "execution_count": 53,
   "id": "b2428f31-6a37-4a80-958e-41e0b8848e8a",
   "metadata": {},
   "outputs": [
    {
     "name": "stdout",
     "output_type": "stream",
     "text": [
      "Loading samples...\n",
      "Extracted 1725 subsurface models\n",
      "Interpolating models...\n"
     ]
    },
    {
     "name": "stderr",
     "output_type": "stream",
     "text": [
      "100%|███████████████████████████████████| 1725/1725 [00:00<00:00, 677514.22it/s]\n"
     ]
    },
    {
     "name": "stdout",
     "output_type": "stream",
     "text": [
      "Finding MAP using 1725 iterations\n",
      "estimated bandwidth:  0.9451566294022223\n",
      "fit meanshift\n",
      "Mean Shift Estimated Mode: [ 2.24491468e+00 -7.25052084e+00  1.21886296e+02  1.07656468e+02\n",
      "  2.20524086e+00  3.66163858e+00  4.54964315e+00  4.71558344e+00\n",
      "  4.93050325e+00  5.59629063e+00  5.70736770e+00  3.06285820e-01\n",
      "  2.84893350e-01  2.61037275e-01  2.85116448e-01  2.75203232e-01\n",
      "  2.74525173e-01  2.70357366e-01  3.35040435e+00  1.46656984e+01\n",
      "  1.52712206e+01  1.43822749e+01  2.79158899e+02  2.82858065e+02]\n",
      "MAP model: [2.245, -7.251, 121.9, 107.7, 2.205, 3.662, 4.55, 4.716, 4.931, 5.596, 5.707, 0.3063, 0.2849, 0.261, 0.2851, 0.2752, 0.2745, 0.2704, 3.35, 14.67, 15.27, 14.38, 279.2, 282.9]\n",
      "Likelihood of best:  -130.5567831768955\n",
      "Calculating group velocity and arrival times...\n",
      "100%|█████████████████████████████████████████| 201/201 [00:04<00:00, 43.10it/s]\n",
      "Interpolating models...\n"
     ]
    },
    {
     "name": "stderr",
     "output_type": "stream",
     "text": [
      "100%|███████████████████████████████████| 1725/1725 [00:00<00:00, 658641.27it/s]\n"
     ]
    },
    {
     "name": "stdout",
     "output_type": "stream",
     "text": [
      "Likelihood of best:  -130.5567831768955\n",
      "Calculating group velocity and arrival times...\n",
      "100%|█████████████████████████████████████████| 201/201 [00:04<00:00, 43.35it/s]\n"
     ]
    }
   ],
   "source": [
    "importlib.reload(mc)\n",
    "\n",
    "### Set the minimum log-likelihood to acount for in plots, values with higher misfit (lower log-likelihood) will be discarded. \n",
    "crit = -9999\n",
    "#crit = -135\n",
    "\n",
    "MCMC.process_solutions(discard=0, thin=1, crit=crit)\n",
    "### Uncomment for inversions with a very large number of iterations:\n",
    "#MCMC.process_solutions(discard=1000, thin=2000, crit=crit)\n",
    "\n",
    "### SHALLOW Subsurface\n",
    "dep_shallow = np.linspace(0., 100., 201)\n",
    "MCMC.visualize_solution(figsize=(10,5), Nmod=200, bins_hist=20, bins_wave=50, hspace=0.1, wspace=0.15,  \n",
    "                            depth_interpolation=dep_shallow, preserve_aspect=True, do_save=True, do_truth=True)\n",
    "### DEEPER subsurface\n",
    "dep_deep = np.linspace(0., 1000., 201)\n",
    "MCMC.visualize_solution(figsize=(10,5), Nmod=200, bins_hist=20, bins_wave=50, hspace=0.1, wspace=0.15,  \n",
    "                            depth_interpolation=dep_deep, preserve_aspect=True, do_save=True, do_truth=True)\n",
    "\n",
    "### Source location \n",
    "MCMC.source_location(figsize=(4,4), do_save=True, geography = True, zoom=True)"
   ]
  },
  {
   "cell_type": "markdown",
   "id": "aca189b8-1e89-4f80-ba24-98669ad775de",
   "metadata": {},
   "source": [
    "### Marginal distributions of parameters\n",
    "The following two function make corner plots of all or a selection of couples of parameters. This allows to visualise trade-off between two dimensions. "
   ]
  },
  {
   "cell_type": "code",
   "execution_count": 21,
   "id": "f1b39a42-be95-42c4-be94-a44a69a3677f",
   "metadata": {},
   "outputs": [
    {
     "data": {
      "text/plain": [
       "<module 'MCMC_modules' from '/staff/marouchka/Documents/SOFTWARE/McMC/QB/public_inversion/MCMC_modules.py'>"
      ]
     },
     "execution_count": 21,
     "metadata": {},
     "output_type": "execute_result"
    }
   ],
   "source": [
    "importlib.reload(mc)\n",
    "\n",
    "### VERY BIG CORNER PLOT \n",
    "### Comment to ignore \n",
    "MCMC.corner_plot(do_save=True, do_MAP = True)\n",
    "\n",
    "### Marginals for a selection of parameters \n",
    "### Comment to ignore \n",
    "MCMC.parameter_marginals(pars=[[0,1],[0,2],[1,8],[2,8],[5,8],[4,14],[0,8]], find_limits=True, \n",
    "                        do_save=True, do_MAP=True)"
   ]
  },
  {
   "cell_type": "markdown",
   "id": "f2ec6efd-5513-4b92-b8db-fe99fbc0f09b",
   "metadata": {},
   "source": [
    "### Additional information: the Priors\n",
    "The prior distribution of subsurface and source parameters can be plotted with the following function."
   ]
  },
  {
   "cell_type": "code",
   "execution_count": 22,
   "id": "9a5669b4-39ee-4902-b9af-17b54cd8c283",
   "metadata": {},
   "outputs": [
    {
     "data": {
      "text/plain": [
       "<module 'MCMC_modules' from '/staff/marouchka/Documents/SOFTWARE/McMC/QB/public_inversion/MCMC_modules.py'>"
      ]
     },
     "execution_count": 22,
     "metadata": {},
     "output_type": "execute_result"
    }
   ],
   "source": [
    "importlib.reload(mc)\n",
    "\n",
    "### Comment to ignore \n",
    "MCMC.visualize_priors(figsize=(10,5), Nmod=2000, bins_hist=20, bins_wave=50, hspace=0.1, wspace=0.15, \n",
    "                           depth_interpolation=dep_shallow, do_save=False, preserve_aspect=True)"
   ]
  }
 ],
 "metadata": {
  "kernelspec": {
   "display_name": "Python [conda env:env_mcmc] *",
   "language": "python",
   "name": "conda-env-env_mcmc-py"
  },
  "language_info": {
   "codemirror_mode": {
    "name": "ipython",
    "version": 3
   },
   "file_extension": ".py",
   "mimetype": "text/x-python",
   "name": "python",
   "nbconvert_exporter": "python",
   "pygments_lexer": "ipython3",
   "version": "3.13.2"
  }
 },
 "nbformat": 4,
 "nbformat_minor": 5
}
